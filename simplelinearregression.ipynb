{
 "cells": [
  {
   "cell_type": "code",
   "execution_count": 1,
   "id": "6d233dfa",
   "metadata": {
    "_cell_guid": "b1076dfc-b9ad-4769-8c92-a6c4dae69d19",
    "_uuid": "8f2839f25d086af736a60e9eeb907d3b93b6e0e5",
    "execution": {
     "iopub.execute_input": "2025-09-16T05:53:15.982022Z",
     "iopub.status.busy": "2025-09-16T05:53:15.981618Z",
     "iopub.status.idle": "2025-09-16T05:53:17.971577Z",
     "shell.execute_reply": "2025-09-16T05:53:17.970491Z"
    },
    "papermill": {
     "duration": 1.999156,
     "end_time": "2025-09-16T05:53:17.973316",
     "exception": false,
     "start_time": "2025-09-16T05:53:15.974160",
     "status": "completed"
    },
    "tags": []
   },
   "outputs": [
    {
     "name": "stdout",
     "output_type": "stream",
     "text": [
      "/kaggle/input/placement/placement.csv\n"
     ]
    }
   ],
   "source": [
    "# This Python 3 environment comes with many helpful analytics libraries installed\n",
    "# It is defined by the kaggle/python Docker image: https://github.com/kaggle/docker-python\n",
    "# For example, here's several helpful packages to load\n",
    "\n",
    "import numpy as np # linear algebra\n",
    "import pandas as pd # data processing, CSV file I/O (e.g. pd.read_csv)\n",
    "\n",
    "# Input data files are available in the read-only \"../input/\" directory\n",
    "# For example, running this (by clicking run or pressing Shift+Enter) will list all files under the input directory\n",
    "\n",
    "import os\n",
    "for dirname, _, filenames in os.walk('/kaggle/input'):\n",
    "    for filename in filenames:\n",
    "        print(os.path.join(dirname, filename))\n",
    "\n",
    "# You can write up to 20GB to the current directory (/kaggle/working/) that gets preserved as output when you create a version using \"Save & Run All\" \n",
    "# You can also write temporary files to /kaggle/temp/, but they won't be saved outside of the current session"
   ]
  },
  {
   "cell_type": "code",
   "execution_count": 2,
   "id": "5c1e49b8",
   "metadata": {
    "execution": {
     "iopub.execute_input": "2025-09-16T05:53:17.986053Z",
     "iopub.status.busy": "2025-09-16T05:53:17.985583Z",
     "iopub.status.idle": "2025-09-16T05:53:17.990364Z",
     "shell.execute_reply": "2025-09-16T05:53:17.989257Z"
    },
    "papermill": {
     "duration": 0.013087,
     "end_time": "2025-09-16T05:53:17.992206",
     "exception": false,
     "start_time": "2025-09-16T05:53:17.979119",
     "status": "completed"
    },
    "tags": []
   },
   "outputs": [],
   "source": [
    "import pandas as pd\n",
    "import numpy as np\n",
    "import matplotlib.pyplot as plt\n"
   ]
  },
  {
   "cell_type": "code",
   "execution_count": 3,
   "id": "89bc9803",
   "metadata": {
    "execution": {
     "iopub.execute_input": "2025-09-16T05:53:18.004263Z",
     "iopub.status.busy": "2025-09-16T05:53:18.003943Z",
     "iopub.status.idle": "2025-09-16T05:53:18.046780Z",
     "shell.execute_reply": "2025-09-16T05:53:18.045687Z"
    },
    "papermill": {
     "duration": 0.050698,
     "end_time": "2025-09-16T05:53:18.048400",
     "exception": false,
     "start_time": "2025-09-16T05:53:17.997702",
     "status": "completed"
    },
    "tags": []
   },
   "outputs": [
    {
     "data": {
      "text/html": [
       "<div>\n",
       "<style scoped>\n",
       "    .dataframe tbody tr th:only-of-type {\n",
       "        vertical-align: middle;\n",
       "    }\n",
       "\n",
       "    .dataframe tbody tr th {\n",
       "        vertical-align: top;\n",
       "    }\n",
       "\n",
       "    .dataframe thead th {\n",
       "        text-align: right;\n",
       "    }\n",
       "</style>\n",
       "<table border=\"1\" class=\"dataframe\">\n",
       "  <thead>\n",
       "    <tr style=\"text-align: right;\">\n",
       "      <th></th>\n",
       "      <th>cgpa</th>\n",
       "      <th>package</th>\n",
       "    </tr>\n",
       "  </thead>\n",
       "  <tbody>\n",
       "    <tr>\n",
       "      <th>0</th>\n",
       "      <td>6.89</td>\n",
       "      <td>3.26</td>\n",
       "    </tr>\n",
       "    <tr>\n",
       "      <th>1</th>\n",
       "      <td>5.12</td>\n",
       "      <td>1.98</td>\n",
       "    </tr>\n",
       "    <tr>\n",
       "      <th>2</th>\n",
       "      <td>7.82</td>\n",
       "      <td>3.25</td>\n",
       "    </tr>\n",
       "    <tr>\n",
       "      <th>3</th>\n",
       "      <td>7.42</td>\n",
       "      <td>3.67</td>\n",
       "    </tr>\n",
       "    <tr>\n",
       "      <th>4</th>\n",
       "      <td>6.94</td>\n",
       "      <td>3.57</td>\n",
       "    </tr>\n",
       "    <tr>\n",
       "      <th>...</th>\n",
       "      <td>...</td>\n",
       "      <td>...</td>\n",
       "    </tr>\n",
       "    <tr>\n",
       "      <th>195</th>\n",
       "      <td>6.93</td>\n",
       "      <td>2.46</td>\n",
       "    </tr>\n",
       "    <tr>\n",
       "      <th>196</th>\n",
       "      <td>5.89</td>\n",
       "      <td>2.57</td>\n",
       "    </tr>\n",
       "    <tr>\n",
       "      <th>197</th>\n",
       "      <td>7.21</td>\n",
       "      <td>3.24</td>\n",
       "    </tr>\n",
       "    <tr>\n",
       "      <th>198</th>\n",
       "      <td>7.63</td>\n",
       "      <td>3.96</td>\n",
       "    </tr>\n",
       "    <tr>\n",
       "      <th>199</th>\n",
       "      <td>6.22</td>\n",
       "      <td>2.33</td>\n",
       "    </tr>\n",
       "  </tbody>\n",
       "</table>\n",
       "<p>200 rows × 2 columns</p>\n",
       "</div>"
      ],
      "text/plain": [
       "     cgpa  package\n",
       "0    6.89     3.26\n",
       "1    5.12     1.98\n",
       "2    7.82     3.25\n",
       "3    7.42     3.67\n",
       "4    6.94     3.57\n",
       "..    ...      ...\n",
       "195  6.93     2.46\n",
       "196  5.89     2.57\n",
       "197  7.21     3.24\n",
       "198  7.63     3.96\n",
       "199  6.22     2.33\n",
       "\n",
       "[200 rows x 2 columns]"
      ]
     },
     "execution_count": 3,
     "metadata": {},
     "output_type": "execute_result"
    }
   ],
   "source": [
    "df= pd.read_csv(\"/kaggle/input/placement/placement.csv\")\n",
    "df"
   ]
  },
  {
   "cell_type": "code",
   "execution_count": 4,
   "id": "13ae2073",
   "metadata": {
    "execution": {
     "iopub.execute_input": "2025-09-16T05:53:18.061389Z",
     "iopub.status.busy": "2025-09-16T05:53:18.061029Z",
     "iopub.status.idle": "2025-09-16T05:53:18.070628Z",
     "shell.execute_reply": "2025-09-16T05:53:18.069736Z"
    },
    "papermill": {
     "duration": 0.017992,
     "end_time": "2025-09-16T05:53:18.072175",
     "exception": false,
     "start_time": "2025-09-16T05:53:18.054183",
     "status": "completed"
    },
    "tags": []
   },
   "outputs": [
    {
     "data": {
      "text/html": [
       "<div>\n",
       "<style scoped>\n",
       "    .dataframe tbody tr th:only-of-type {\n",
       "        vertical-align: middle;\n",
       "    }\n",
       "\n",
       "    .dataframe tbody tr th {\n",
       "        vertical-align: top;\n",
       "    }\n",
       "\n",
       "    .dataframe thead th {\n",
       "        text-align: right;\n",
       "    }\n",
       "</style>\n",
       "<table border=\"1\" class=\"dataframe\">\n",
       "  <thead>\n",
       "    <tr style=\"text-align: right;\">\n",
       "      <th></th>\n",
       "      <th>cgpa</th>\n",
       "      <th>package</th>\n",
       "    </tr>\n",
       "  </thead>\n",
       "  <tbody>\n",
       "    <tr>\n",
       "      <th>0</th>\n",
       "      <td>6.89</td>\n",
       "      <td>3.26</td>\n",
       "    </tr>\n",
       "    <tr>\n",
       "      <th>1</th>\n",
       "      <td>5.12</td>\n",
       "      <td>1.98</td>\n",
       "    </tr>\n",
       "    <tr>\n",
       "      <th>2</th>\n",
       "      <td>7.82</td>\n",
       "      <td>3.25</td>\n",
       "    </tr>\n",
       "    <tr>\n",
       "      <th>3</th>\n",
       "      <td>7.42</td>\n",
       "      <td>3.67</td>\n",
       "    </tr>\n",
       "    <tr>\n",
       "      <th>4</th>\n",
       "      <td>6.94</td>\n",
       "      <td>3.57</td>\n",
       "    </tr>\n",
       "  </tbody>\n",
       "</table>\n",
       "</div>"
      ],
      "text/plain": [
       "   cgpa  package\n",
       "0  6.89     3.26\n",
       "1  5.12     1.98\n",
       "2  7.82     3.25\n",
       "3  7.42     3.67\n",
       "4  6.94     3.57"
      ]
     },
     "execution_count": 4,
     "metadata": {},
     "output_type": "execute_result"
    }
   ],
   "source": [
    "df.head()"
   ]
  },
  {
   "cell_type": "code",
   "execution_count": 5,
   "id": "eb02545a",
   "metadata": {
    "execution": {
     "iopub.execute_input": "2025-09-16T05:53:18.085010Z",
     "iopub.status.busy": "2025-09-16T05:53:18.084719Z",
     "iopub.status.idle": "2025-09-16T05:53:18.095178Z",
     "shell.execute_reply": "2025-09-16T05:53:18.094175Z"
    },
    "papermill": {
     "duration": 0.01877,
     "end_time": "2025-09-16T05:53:18.096691",
     "exception": false,
     "start_time": "2025-09-16T05:53:18.077921",
     "status": "completed"
    },
    "tags": []
   },
   "outputs": [
    {
     "data": {
      "text/html": [
       "<div>\n",
       "<style scoped>\n",
       "    .dataframe tbody tr th:only-of-type {\n",
       "        vertical-align: middle;\n",
       "    }\n",
       "\n",
       "    .dataframe tbody tr th {\n",
       "        vertical-align: top;\n",
       "    }\n",
       "\n",
       "    .dataframe thead th {\n",
       "        text-align: right;\n",
       "    }\n",
       "</style>\n",
       "<table border=\"1\" class=\"dataframe\">\n",
       "  <thead>\n",
       "    <tr style=\"text-align: right;\">\n",
       "      <th></th>\n",
       "      <th>cgpa</th>\n",
       "      <th>package</th>\n",
       "    </tr>\n",
       "  </thead>\n",
       "  <tbody>\n",
       "    <tr>\n",
       "      <th>195</th>\n",
       "      <td>6.93</td>\n",
       "      <td>2.46</td>\n",
       "    </tr>\n",
       "    <tr>\n",
       "      <th>196</th>\n",
       "      <td>5.89</td>\n",
       "      <td>2.57</td>\n",
       "    </tr>\n",
       "    <tr>\n",
       "      <th>197</th>\n",
       "      <td>7.21</td>\n",
       "      <td>3.24</td>\n",
       "    </tr>\n",
       "    <tr>\n",
       "      <th>198</th>\n",
       "      <td>7.63</td>\n",
       "      <td>3.96</td>\n",
       "    </tr>\n",
       "    <tr>\n",
       "      <th>199</th>\n",
       "      <td>6.22</td>\n",
       "      <td>2.33</td>\n",
       "    </tr>\n",
       "  </tbody>\n",
       "</table>\n",
       "</div>"
      ],
      "text/plain": [
       "     cgpa  package\n",
       "195  6.93     2.46\n",
       "196  5.89     2.57\n",
       "197  7.21     3.24\n",
       "198  7.63     3.96\n",
       "199  6.22     2.33"
      ]
     },
     "execution_count": 5,
     "metadata": {},
     "output_type": "execute_result"
    }
   ],
   "source": [
    "df.tail()"
   ]
  },
  {
   "cell_type": "code",
   "execution_count": 6,
   "id": "c9d24190",
   "metadata": {
    "execution": {
     "iopub.execute_input": "2025-09-16T05:53:18.109614Z",
     "iopub.status.busy": "2025-09-16T05:53:18.109278Z",
     "iopub.status.idle": "2025-09-16T05:53:18.502454Z",
     "shell.execute_reply": "2025-09-16T05:53:18.501359Z"
    },
    "papermill": {
     "duration": 0.40162,
     "end_time": "2025-09-16T05:53:18.504203",
     "exception": false,
     "start_time": "2025-09-16T05:53:18.102583",
     "status": "completed"
    },
    "tags": []
   },
   "outputs": [
    {
     "data": {
      "text/plain": [
       "Text(0, 0.5, 'Package')"
      ]
     },
     "execution_count": 6,
     "metadata": {},
     "output_type": "execute_result"
    },
    {
     "data": {
      "image/png": "[encoded data removed]",
      "text/plain": [
       "<Figure size 640x480 with 1 Axes>"
      ]
     },
     "metadata": {},
     "output_type": "display_data"
    }
   ],
   "source": [
    "plt.scatter(df['cgpa'],df['package'])\n",
    "plt.xlabel(\"cgpa\")\n",
    "plt.ylabel(\"Package\")"
   ]
  },
  {
   "cell_type": "code",
   "execution_count": 7,
   "id": "a2a1dd8f",
   "metadata": {
    "execution": {
     "iopub.execute_input": "2025-09-16T05:53:18.519120Z",
     "iopub.status.busy": "2025-09-16T05:53:18.518801Z",
     "iopub.status.idle": "2025-09-16T05:53:18.527150Z",
     "shell.execute_reply": "2025-09-16T05:53:18.526356Z"
    },
    "papermill": {
     "duration": 0.017895,
     "end_time": "2025-09-16T05:53:18.528724",
     "exception": false,
     "start_time": "2025-09-16T05:53:18.510829",
     "status": "completed"
    },
    "tags": []
   },
   "outputs": [],
   "source": [
    "X= df[['cgpa']] ##independent feature\n",
    "y=df['package'] ##dependent feature"
   ]
  },
  {
   "cell_type": "code",
   "execution_count": 8,
   "id": "89606c71",
   "metadata": {
    "execution": {
     "iopub.execute_input": "2025-09-16T05:53:18.543254Z",
     "iopub.status.busy": "2025-09-16T05:53:18.542932Z",
     "iopub.status.idle": "2025-09-16T05:53:18.549264Z",
     "shell.execute_reply": "2025-09-16T05:53:18.548392Z"
    },
    "papermill": {
     "duration": 0.015435,
     "end_time": "2025-09-16T05:53:18.550754",
     "exception": false,
     "start_time": "2025-09-16T05:53:18.535319",
     "status": "completed"
    },
    "tags": []
   },
   "outputs": [
    {
     "data": {
      "text/plain": [
       "((200, 1), (200,))"
      ]
     },
     "execution_count": 8,
     "metadata": {},
     "output_type": "execute_result"
    }
   ],
   "source": [
    "X.shape,y.shape"
   ]
  },
  {
   "cell_type": "code",
   "execution_count": 9,
   "id": "a63c78f6",
   "metadata": {
    "execution": {
     "iopub.execute_input": "2025-09-16T05:53:18.565034Z",
     "iopub.status.busy": "2025-09-16T05:53:18.564672Z",
     "iopub.status.idle": "2025-09-16T05:53:20.183141Z",
     "shell.execute_reply": "2025-09-16T05:53:20.182126Z"
    },
    "papermill": {
     "duration": 1.627515,
     "end_time": "2025-09-16T05:53:20.184878",
     "exception": false,
     "start_time": "2025-09-16T05:53:18.557363",
     "status": "completed"
    },
    "tags": []
   },
   "outputs": [],
   "source": [
    "from sklearn.model_selection import train_test_split"
   ]
  },
  {
   "cell_type": "code",
   "execution_count": 10,
   "id": "f633bb71",
   "metadata": {
    "execution": {
     "iopub.execute_input": "2025-09-16T05:53:20.199313Z",
     "iopub.status.busy": "2025-09-16T05:53:20.198894Z",
     "iopub.status.idle": "2025-09-16T05:53:20.207573Z",
     "shell.execute_reply": "2025-09-16T05:53:20.206680Z"
    },
    "papermill": {
     "duration": 0.01759,
     "end_time": "2025-09-16T05:53:20.209148",
     "exception": false,
     "start_time": "2025-09-16T05:53:20.191558",
     "status": "completed"
    },
    "tags": []
   },
   "outputs": [],
   "source": [
    "X_train, X_test, y_train, y_test =train_test_split(X,y,test_size=0.20,random_state=42)"
   ]
  },
  {
   "cell_type": "code",
   "execution_count": 11,
   "id": "e3352999",
   "metadata": {
    "execution": {
     "iopub.execute_input": "2025-09-16T05:53:20.223553Z",
     "iopub.status.busy": "2025-09-16T05:53:20.223177Z",
     "iopub.status.idle": "2025-09-16T05:53:20.229945Z",
     "shell.execute_reply": "2025-09-16T05:53:20.228935Z"
    },
    "papermill": {
     "duration": 0.015837,
     "end_time": "2025-09-16T05:53:20.231579",
     "exception": false,
     "start_time": "2025-09-16T05:53:20.215742",
     "status": "completed"
    },
    "tags": []
   },
   "outputs": [
    {
     "data": {
      "text/plain": [
       "((160, 1), (40, 1))"
      ]
     },
     "execution_count": 11,
     "metadata": {},
     "output_type": "execute_result"
    }
   ],
   "source": [
    "X_train.shape,X_test.shape"
   ]
  },
  {
   "cell_type": "code",
   "execution_count": 12,
   "id": "dfd4399f",
   "metadata": {
    "execution": {
     "iopub.execute_input": "2025-09-16T05:53:20.246527Z",
     "iopub.status.busy": "2025-09-16T05:53:20.245595Z",
     "iopub.status.idle": "2025-09-16T05:53:20.250294Z",
     "shell.execute_reply": "2025-09-16T05:53:20.249394Z"
    },
    "papermill": {
     "duration": 0.013666,
     "end_time": "2025-09-16T05:53:20.251913",
     "exception": false,
     "start_time": "2025-09-16T05:53:20.238247",
     "status": "completed"
    },
    "tags": []
   },
   "outputs": [],
   "source": [
    "##pre processing of data\n",
    "from sklearn.preprocessing import StandardScaler"
   ]
  },
  {
   "cell_type": "code",
   "execution_count": 13,
   "id": "84772e0c",
   "metadata": {
    "execution": {
     "iopub.execute_input": "2025-09-16T05:53:20.266441Z",
     "iopub.status.busy": "2025-09-16T05:53:20.266081Z",
     "iopub.status.idle": "2025-09-16T05:53:20.270788Z",
     "shell.execute_reply": "2025-09-16T05:53:20.269738Z"
    },
    "papermill": {
     "duration": 0.013849,
     "end_time": "2025-09-16T05:53:20.272448",
     "exception": false,
     "start_time": "2025-09-16T05:53:20.258599",
     "status": "completed"
    },
    "tags": []
   },
   "outputs": [],
   "source": [
    "scaler =StandardScaler()"
   ]
  },
  {
   "cell_type": "code",
   "execution_count": 14,
   "id": "b2409da1",
   "metadata": {
    "execution": {
     "iopub.execute_input": "2025-09-16T05:53:20.286594Z",
     "iopub.status.busy": "2025-09-16T05:53:20.286252Z",
     "iopub.status.idle": "2025-09-16T05:53:20.295143Z",
     "shell.execute_reply": "2025-09-16T05:53:20.294068Z"
    },
    "papermill": {
     "duration": 0.01795,
     "end_time": "2025-09-16T05:53:20.296866",
     "exception": false,
     "start_time": "2025-09-16T05:53:20.278916",
     "status": "completed"
    },
    "tags": []
   },
   "outputs": [],
   "source": [
    "X_train = scaler.fit_transform(X_train) ## well shaped curved\n",
    "X_test= scaler.transform(X_test)"
   ]
  },
  {
   "cell_type": "code",
   "execution_count": 15,
   "id": "108e0256",
   "metadata": {
    "execution": {
     "iopub.execute_input": "2025-09-16T05:53:20.311891Z",
     "iopub.status.busy": "2025-09-16T05:53:20.311550Z",
     "iopub.status.idle": "2025-09-16T05:53:20.413126Z",
     "shell.execute_reply": "2025-09-16T05:53:20.412092Z"
    },
    "papermill": {
     "duration": 0.111236,
     "end_time": "2025-09-16T05:53:20.414801",
     "exception": false,
     "start_time": "2025-09-16T05:53:20.303565",
     "status": "completed"
    },
    "tags": []
   },
   "outputs": [],
   "source": [
    "from sklearn.linear_model import LinearRegression"
   ]
  },
  {
   "cell_type": "code",
   "execution_count": 16,
   "id": "45872ccc",
   "metadata": {
    "execution": {
     "iopub.execute_input": "2025-09-16T05:53:20.429195Z",
     "iopub.status.busy": "2025-09-16T05:53:20.428867Z",
     "iopub.status.idle": "2025-09-16T05:53:20.433557Z",
     "shell.execute_reply": "2025-09-16T05:53:20.432303Z"
    },
    "papermill": {
     "duration": 0.013706,
     "end_time": "2025-09-16T05:53:20.435131",
     "exception": false,
     "start_time": "2025-09-16T05:53:20.421425",
     "status": "completed"
    },
    "tags": []
   },
   "outputs": [],
   "source": [
    "regressor = LinearRegression()\n",
    "\n"
   ]
  },
  {
   "cell_type": "code",
   "execution_count": 17,
   "id": "9f71f119",
   "metadata": {
    "execution": {
     "iopub.execute_input": "2025-09-16T05:53:20.449477Z",
     "iopub.status.busy": "2025-09-16T05:53:20.449146Z",
     "iopub.status.idle": "2025-09-16T05:53:20.481188Z",
     "shell.execute_reply": "2025-09-16T05:53:20.480284Z"
    },
    "papermill": {
     "duration": 0.041161,
     "end_time": "2025-09-16T05:53:20.482934",
     "exception": false,
     "start_time": "2025-09-16T05:53:20.441773",
     "status": "completed"
    },
    "tags": []
   },
   "outputs": [
    {
     "data": {
      "text/html": [
       "<style>#sk-container-id-1 {color: black;background-color: white;}#sk-container-id-1 pre{padding: 0;}#sk-container-id-1 div.sk-toggleable {background-color: white;}#sk-container-id-1 label.sk-toggleable__label {cursor: pointer;display: block;width: 100%;margin-bottom: 0;padding: 0.3em;box-sizing: border-box;text-align: center;}#sk-container-id-1 label.sk-toggleable__label-arrow:before {content: \"▸\";float: left;margin-right: 0.25em;color: #696969;}#sk-container-id-1 label.sk-toggleable__label-arrow:hover:before {color: black;}#sk-container-id-1 div.sk-estimator:hover label.sk-toggleable__label-arrow:before {color: black;}#sk-container-id-1 div.sk-toggleable__content {max-height: 0;max-width: 0;overflow: hidden;text-align: left;background-color: #f0f8ff;}#sk-container-id-1 div.sk-toggleable__content pre {margin: 0.2em;color: black;border-radius: 0.25em;background-color: #f0f8ff;}#sk-container-id-1 input.sk-toggleable__control:checked~div.sk-toggleable__content {max-height: 200px;max-width: 100%;overflow: auto;}#sk-container-id-1 input.sk-toggleable__control:checked~label.sk-toggleable__label-arrow:before {content: \"▾\";}#sk-container-id-1 div.sk-estimator input.sk-toggleable__control:checked~label.sk-toggleable__label {background-color: #d4ebff;}#sk-container-id-1 div.sk-label input.sk-toggleable__control:checked~label.sk-toggleable__label {background-color: #d4ebff;}#sk-container-id-1 input.sk-hidden--visually {border: 0;clip: rect(1px 1px 1px 1px);clip: rect(1px, 1px, 1px, 1px);height: 1px;margin: -1px;overflow: hidden;padding: 0;position: absolute;width: 1px;}#sk-container-id-1 div.sk-estimator {font-family: monospace;background-color: #f0f8ff;border: 1px dotted black;border-radius: 0.25em;box-sizing: border-box;margin-bottom: 0.5em;}#sk-container-id-1 div.sk-estimator:hover {background-color: #d4ebff;}#sk-container-id-1 div.sk-parallel-item::after {content: \"\";width: 100%;border-bottom: 1px solid gray;flex-grow: 1;}#sk-container-id-1 div.sk-label:hover label.sk-toggleable__label {background-color: #d4ebff;}#sk-container-id-1 div.sk-serial::before {content: \"\";position: absolute;border-left: 1px solid gray;box-sizing: border-box;top: 0;bottom: 0;left: 50%;z-index: 0;}#sk-container-id-1 div.sk-serial {display: flex;flex-direction: column;align-items: center;background-color: white;padding-right: 0.2em;padding-left: 0.2em;position: relative;}#sk-container-id-1 div.sk-item {position: relative;z-index: 1;}#sk-container-id-1 div.sk-parallel {display: flex;align-items: stretch;justify-content: center;background-color: white;position: relative;}#sk-container-id-1 div.sk-item::before, #sk-container-id-1 div.sk-parallel-item::before {content: \"\";position: absolute;border-left: 1px solid gray;box-sizing: border-box;top: 0;bottom: 0;left: 50%;z-index: -1;}#sk-container-id-1 div.sk-parallel-item {display: flex;flex-direction: column;z-index: 1;position: relative;background-color: white;}#sk-container-id-1 div.sk-parallel-item:first-child::after {align-self: flex-end;width: 50%;}#sk-container-id-1 div.sk-parallel-item:last-child::after {align-self: flex-start;width: 50%;}#sk-container-id-1 div.sk-parallel-item:only-child::after {width: 0;}#sk-container-id-1 div.sk-dashed-wrapped {border: 1px dashed gray;margin: 0 0.4em 0.5em 0.4em;box-sizing: border-box;padding-bottom: 0.4em;background-color: white;}#sk-container-id-1 div.sk-label label {font-family: monospace;font-weight: bold;display: inline-block;line-height: 1.2em;}#sk-container-id-1 div.sk-label-container {text-align: center;}#sk-container-id-1 div.sk-container {/* jupyter's `normalize.less` sets `[hidden] { display: none; }` but bootstrap.min.css set `[hidden] { display: none !important; }` so we also need the `!important` here to be able to override the default hidden behavior on the sphinx rendered scikit-learn.org. See: https://github.com/scikit-learn/scikit-learn/issues/21755 */display: inline-block !important;position: relative;}#sk-container-id-1 div.sk-text-repr-fallback {display: none;}</style><div id=\"sk-container-id-1\" class=\"sk-top-container\"><div class=\"sk-text-repr-fallback\"><pre>LinearRegression()</pre><b>In a Jupyter environment, please rerun this cell to show the HTML representation or trust the notebook. <br />On GitHub, the HTML representation is unable to render, please try loading this page with nbviewer.org.</b></div><div class=\"sk-container\" hidden><div class=\"sk-item\"><div class=\"sk-estimator sk-toggleable\"><input class=\"sk-toggleable__control sk-hidden--visually\" id=\"sk-estimator-id-1\" type=\"checkbox\" checked><label for=\"sk-estimator-id-1\" class=\"sk-toggleable__label sk-toggleable__label-arrow\">LinearRegression</label><div class=\"sk-toggleable__content\"><pre>LinearRegression()</pre></div></div></div></div></div>"
      ],
      "text/plain": [
       "LinearRegression()"
      ]
     },
     "execution_count": 17,
     "metadata": {},
     "output_type": "execute_result"
    }
   ],
   "source": [
    "regressor.fit(X_train,y_train)"
   ]
  },
  {
   "cell_type": "code",
   "execution_count": 18,
   "id": "6407434d",
   "metadata": {
    "execution": {
     "iopub.execute_input": "2025-09-16T05:53:20.498088Z",
     "iopub.status.busy": "2025-09-16T05:53:20.497721Z",
     "iopub.status.idle": "2025-09-16T05:53:20.503841Z",
     "shell.execute_reply": "2025-09-16T05:53:20.502894Z"
    },
    "papermill": {
     "duration": 0.015545,
     "end_time": "2025-09-16T05:53:20.505501",
     "exception": false,
     "start_time": "2025-09-16T05:53:20.489956",
     "status": "completed"
    },
    "tags": []
   },
   "outputs": [
    {
     "data": {
      "text/plain": [
       "2.9958750000000003"
      ]
     },
     "execution_count": 18,
     "metadata": {},
     "output_type": "execute_result"
    }
   ],
   "source": [
    "regressor.intercept_"
   ]
  },
  {
   "cell_type": "code",
   "execution_count": 19,
   "id": "15abac3a",
   "metadata": {
    "execution": {
     "iopub.execute_input": "2025-09-16T05:53:20.521128Z",
     "iopub.status.busy": "2025-09-16T05:53:20.520312Z",
     "iopub.status.idle": "2025-09-16T05:53:20.526891Z",
     "shell.execute_reply": "2025-09-16T05:53:20.525899Z"
    },
    "papermill": {
     "duration": 0.015857,
     "end_time": "2025-09-16T05:53:20.528521",
     "exception": false,
     "start_time": "2025-09-16T05:53:20.512664",
     "status": "completed"
    },
    "tags": []
   },
   "outputs": [
    {
     "data": {
      "text/plain": [
       "array([0.62421668])"
      ]
     },
     "execution_count": 19,
     "metadata": {},
     "output_type": "execute_result"
    }
   ],
   "source": [
    "regressor.coef_"
   ]
  },
  {
   "cell_type": "code",
   "execution_count": 20,
   "id": "ca913db5",
   "metadata": {
    "execution": {
     "iopub.execute_input": "2025-09-16T05:53:20.543966Z",
     "iopub.status.busy": "2025-09-16T05:53:20.543651Z",
     "iopub.status.idle": "2025-09-16T05:53:20.732274Z",
     "shell.execute_reply": "2025-09-16T05:53:20.731373Z"
    },
    "papermill": {
     "duration": 0.198304,
     "end_time": "2025-09-16T05:53:20.733866",
     "exception": false,
     "start_time": "2025-09-16T05:53:20.535562",
     "status": "completed"
    },
    "tags": []
   },
   "outputs": [
    {
     "data": {
      "text/plain": [
       "[<matplotlib.lines.Line2D at 0x7d30ccb4f7d0>]"
      ]
     },
     "execution_count": 20,
     "metadata": {},
     "output_type": "execute_result"
    },
    {
     "data": {
      "image/png": "[encoded data removed]",
      "text/plain": [
       "<Figure size 640x480 with 1 Axes>"
      ]
     },
     "metadata": {},
     "output_type": "display_data"
    }
   ],
   "source": [
    "plt.scatter(X_train,y_train)\n",
    "plt.plot(X_train,regressor.predict(X_train),'r')"
   ]
  },
  {
   "cell_type": "code",
   "execution_count": 21,
   "id": "0846be96",
   "metadata": {
    "execution": {
     "iopub.execute_input": "2025-09-16T05:53:20.750206Z",
     "iopub.status.busy": "2025-09-16T05:53:20.749901Z",
     "iopub.status.idle": "2025-09-16T05:53:20.754803Z",
     "shell.execute_reply": "2025-09-16T05:53:20.753783Z"
    },
    "papermill": {
     "duration": 0.014793,
     "end_time": "2025-09-16T05:53:20.756379",
     "exception": false,
     "start_time": "2025-09-16T05:53:20.741586",
     "status": "completed"
    },
    "tags": []
   },
   "outputs": [],
   "source": [
    "y_pred_test = regressor.predict(X_test)"
   ]
  },
  {
   "cell_type": "code",
   "execution_count": 22,
   "id": "c2e15f42",
   "metadata": {
    "execution": {
     "iopub.execute_input": "2025-09-16T05:53:20.772930Z",
     "iopub.status.busy": "2025-09-16T05:53:20.772556Z",
     "iopub.status.idle": "2025-09-16T05:53:20.780391Z",
     "shell.execute_reply": "2025-09-16T05:53:20.779276Z"
    },
    "papermill": {
     "duration": 0.017867,
     "end_time": "2025-09-16T05:53:20.782064",
     "exception": false,
     "start_time": "2025-09-16T05:53:20.764197",
     "status": "completed"
    },
    "tags": []
   },
   "outputs": [
    {
     "data": {
      "text/plain": [
       "array([2.78031348, 3.13635249, 3.1995207 , 2.38981908, 3.52684689,\n",
       "       3.76803461, 3.16506531, 2.54486832, 3.17655044, 3.4923915 ,\n",
       "       1.90744364, 2.34962112, 3.6876387 , 2.75734322, 3.47516381,\n",
       "       3.04447145, 2.32665086, 3.20526327, 2.17734418, 3.314372  ,\n",
       "       2.45298729, 2.90090734, 3.32011456, 2.87219451, 3.33734226,\n",
       "       2.19457187, 1.41932564, 2.7114027 , 3.18229301, 2.32665086,\n",
       "       3.74506435, 2.95833298, 3.68189614, 2.97556068, 2.59080884,\n",
       "       3.34882738, 2.47595755, 3.07318428, 4.17575671, 2.95833298])"
      ]
     },
     "execution_count": 22,
     "metadata": {},
     "output_type": "execute_result"
    }
   ],
   "source": [
    "y_pred_test"
   ]
  },
  {
   "cell_type": "code",
   "execution_count": 23,
   "id": "641ed448",
   "metadata": {
    "execution": {
     "iopub.execute_input": "2025-09-16T05:53:20.799442Z",
     "iopub.status.busy": "2025-09-16T05:53:20.799051Z",
     "iopub.status.idle": "2025-09-16T05:53:20.807131Z",
     "shell.execute_reply": "2025-09-16T05:53:20.806099Z"
    },
    "papermill": {
     "duration": 0.018686,
     "end_time": "2025-09-16T05:53:20.808921",
     "exception": false,
     "start_time": "2025-09-16T05:53:20.790235",
     "status": "completed"
    },
    "tags": []
   },
   "outputs": [
    {
     "data": {
      "text/plain": [
       "95     2.79\n",
       "15     3.23\n",
       "30     3.26\n",
       "158    3.04\n",
       "128    3.34\n",
       "115    4.21\n",
       "69     2.94\n",
       "170    2.87\n",
       "174    2.99\n",
       "45     3.58\n",
       "66     1.63\n",
       "182    2.08\n",
       "165    4.08\n",
       "78     2.21\n",
       "186    3.47\n",
       "177    3.64\n",
       "56     2.74\n",
       "152    3.08\n",
       "82     2.17\n",
       "68     2.99\n",
       "124    2.31\n",
       "16     2.35\n",
       "148    3.40\n",
       "93     3.08\n",
       "65     3.81\n",
       "60     2.19\n",
       "84     1.53\n",
       "67     2.89\n",
       "125    3.16\n",
       "132    2.48\n",
       "9      3.51\n",
       "18     2.98\n",
       "55     3.39\n",
       "75     3.28\n",
       "150    2.73\n",
       "104    3.74\n",
       "135    2.60\n",
       "137    3.13\n",
       "164    3.82\n",
       "76     3.15\n",
       "Name: package, dtype: float64"
      ]
     },
     "execution_count": 23,
     "metadata": {},
     "output_type": "execute_result"
    }
   ],
   "source": [
    "y_test"
   ]
  },
  {
   "cell_type": "code",
   "execution_count": 24,
   "id": "0cd43680",
   "metadata": {
    "execution": {
     "iopub.execute_input": "2025-09-16T05:53:20.826795Z",
     "iopub.status.busy": "2025-09-16T05:53:20.825966Z",
     "iopub.status.idle": "2025-09-16T05:53:20.830546Z",
     "shell.execute_reply": "2025-09-16T05:53:20.829551Z"
    },
    "papermill": {
     "duration": 0.015326,
     "end_time": "2025-09-16T05:53:20.832131",
     "exception": false,
     "start_time": "2025-09-16T05:53:20.816805",
     "status": "completed"
    },
    "tags": []
   },
   "outputs": [],
   "source": [
    "from sklearn.metrics import mean_squared_error,mean_absolute_error"
   ]
  },
  {
   "cell_type": "code",
   "execution_count": 25,
   "id": "1cced6e0",
   "metadata": {
    "execution": {
     "iopub.execute_input": "2025-09-16T05:53:20.849162Z",
     "iopub.status.busy": "2025-09-16T05:53:20.848461Z",
     "iopub.status.idle": "2025-09-16T05:53:20.855255Z",
     "shell.execute_reply": "2025-09-16T05:53:20.854189Z"
    },
    "papermill": {
     "duration": 0.016969,
     "end_time": "2025-09-16T05:53:20.856964",
     "exception": false,
     "start_time": "2025-09-16T05:53:20.839995",
     "status": "completed"
    },
    "tags": []
   },
   "outputs": [],
   "source": [
    "mse = mean_squared_error(y_test,y_pred_test)\n",
    "mae = mean_absolute_error(y_test,y_pred_test)\n",
    "rmse = np.sqrt(mse)"
   ]
  },
  {
   "cell_type": "raw",
   "id": "1abe9feb",
   "metadata": {
    "papermill": {
     "duration": 0.007494,
     "end_time": "2025-09-16T05:53:20.872225",
     "exception": false,
     "start_time": "2025-09-16T05:53:20.864731",
     "status": "completed"
    },
    "tags": []
   },
   "source": [
    "print(mse)"
   ]
  },
  {
   "cell_type": "code",
   "execution_count": 26,
   "id": "b88cb4cc",
   "metadata": {
    "execution": {
     "iopub.execute_input": "2025-09-16T05:53:20.888767Z",
     "iopub.status.busy": "2025-09-16T05:53:20.888479Z",
     "iopub.status.idle": "2025-09-16T05:53:20.893254Z",
     "shell.execute_reply": "2025-09-16T05:53:20.892272Z"
    },
    "papermill": {
     "duration": 0.014946,
     "end_time": "2025-09-16T05:53:20.894802",
     "exception": false,
     "start_time": "2025-09-16T05:53:20.879856",
     "status": "completed"
    },
    "tags": []
   },
   "outputs": [
    {
     "name": "stdout",
     "output_type": "stream",
     "text": [
      "0.23150985393278384\n",
      "0.29013166599545215\n"
     ]
    }
   ],
   "source": [
    "print(mae)\n",
    "print(rmse)"
   ]
  },
  {
   "cell_type": "code",
   "execution_count": 27,
   "id": "d0628ac9",
   "metadata": {
    "execution": {
     "iopub.execute_input": "2025-09-16T05:53:20.912298Z",
     "iopub.status.busy": "2025-09-16T05:53:20.911993Z",
     "iopub.status.idle": "2025-09-16T05:53:20.916628Z",
     "shell.execute_reply": "2025-09-16T05:53:20.915752Z"
    },
    "papermill": {
     "duration": 0.015346,
     "end_time": "2025-09-16T05:53:20.918112",
     "exception": false,
     "start_time": "2025-09-16T05:53:20.902766",
     "status": "completed"
    },
    "tags": []
   },
   "outputs": [],
   "source": [
    "# //gradient dessent -- problem with mae\n",
    "# //advantage--- robust outliers(mae)\n",
    "# // mse is not possible when there is presence of outliers-- disadvantages\n",
    "    # advantages-- differentiation \n",
    "# rmse is the actual error"
   ]
  }
 ],
 "metadata": {
  "kaggle": {
   "accelerator": "none",
   "dataSources": [
    {
     "datasetId": 8232416,
     "sourceId": 13004084,
     "sourceType": "datasetVersion"
    }
   ],
   "dockerImageVersionId": 31089,
   "isGpuEnabled": false,
   "isInternetEnabled": false,
   "language": "python",
   "sourceType": "notebook"
  },
  "kernelspec": {
   "display_name": "Python 3",
   "language": "python",
   "name": "python3"
  },
  "language_info": {
   "codemirror_mode": {
    "name": "ipython",
    "version": 3
   },
   "file_extension": ".py",
   "mimetype": "text/x-python",
   "name": "python",
   "nbconvert_exporter": "python",
   "pygments_lexer": "ipython3",
   "version": "3.11.13"
  },
  "papermill": {
   "default_parameters": {},
   "duration": 11.280108,
   "end_time": "2025-09-16T05:53:21.546885",
   "environment_variables": {},
   "exception": null,
   "input_path": "__notebook__.ipynb",
   "output_path": "__notebook__.ipynb",
   "parameters": {},
   "start_time": "2025-09-16T05:53:10.266777",
   "version": "2.6.0"
  }
 },
 "nbformat": 4,
 "nbformat_minor": 5
}
